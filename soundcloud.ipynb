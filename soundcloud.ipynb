{
 "cells": [
  {
   "cell_type": "code",
   "execution_count": null,
   "metadata": {},
   "outputs": [
    {
     "name": "stderr",
     "output_type": "stream",
     "text": [
      "/Library/Frameworks/Python.framework/Versions/3.11/lib/python3.11/site-packages/tqdm/auto.py:21: TqdmWarning: IProgress not found. Please update jupyter and ipywidgets. See https://ipywidgets.readthedocs.io/en/stable/user_install.html\n",
      "  from .autonotebook import tqdm as notebook_tqdm\n"
     ]
    }
   ],
   "source": [
    "from PushshiftDumps.scripts.filter_file import process_file\n",
    "from datetime import datetime\n",
    "from spacy.training.example import Example\n",
    "\n",
    "from spacy.util import minibatch\n",
    "import nltk\n",
    "from nltk.corpus import stopwords\n",
    "import pandas as pd\n",
    "import re\n",
    "from vaderSentiment.vaderSentiment import SentimentIntensityAnalyzer\n",
    "import seaborn as sns\n",
    "import matplotlib.pyplot as plt\n",
    "from hdbscan import HDBSCAN\n",
    "import umap\n",
    "\n",
    "\n",
    "# Topic Modeling with BERTopic\n",
    "from bertopic import BERTopic\n",
    "from sentence_transformers import SentenceTransformer\n",
    "import os\n",
    "os.environ[\"TOKENIZERS_PARALLELISM\"] = \"false\" # Disable parallelism to BERTopic avoid warnings \n",
    "import pickle\n",
    "\n"
   ]
  },
  {
   "cell_type": "code",
   "execution_count": null,
   "metadata": {},
   "outputs": [],
   "source": [
    "# Filter out subreddits based on hyperpop terms\n",
    "\n",
    "single_field = None\n",
    "write_bad_lines = True\n",
    "hyperpop_terms = [\n",
    "    # General Hyperpop Terms\n",
    "    \"hyperpop\", \"pc music\", \"100 gecs\", \"charli xcx\", \"sophie\", \"ag cook\",  \n",
    "    \"danny l harle\", \"ravenna golden\", \"dorian electra\", \"glitchcore\",  \n",
    "    \"bubblegum bass\", \"nightcore\", \"electropop\", \"experimental pop\"\n",
    "\n",
    "    # Artists & Producers\n",
    "    \"sophie xeon\", \"sophie oil of every pearl\", \"danny harlecore\",  \n",
    "    \"gfoty\", \"umru\", \"caro\", \"fraxiom\", \"gupi\", \"laura les\", \"dylan brady\",  \n",
    "    \"osno1\", \"ericdoa\", \"aldn\", \"midwxst\", \"underscores\", \"twikipedia\",  \"dorian electra\"\n",
    "]\n",
    "\n",
    "def filter_subreddit(input_file, output_file):\n",
    "    output_format = \"csv\"\n",
    "    from_date = datetime.strptime(\"2019-01-01\", \"%Y-%m-%d\")\n",
    "    to_date = datetime.strptime(\"2030-12-31\", \"%Y-%m-%d\")\n",
    "    field = \"title\"\n",
    "    values = hyperpop_terms\n",
    "    exact_match = False\n",
    "    return process_file(input_file, output_file, output_format, field, values, from_date, to_date, single_field, exact_match)\n",
    "    \n",
    "def filter_comments(input_file, output_file):\n",
    "    output_format = \"csv\"\n",
    "    from_date = datetime.strptime(\"2018-01-01\", \"%Y-%m-%d\")\n",
    "    to_date = datetime.strptime(\"2030-12-31\", \"%Y-%m-%d\")\n",
    "    field = \"body\"\n",
    "    values = hyperpop_terms\n",
    "    exact_match = False\n",
    "    return process_file(input_file, output_file, output_format, field, values, from_date, to_date, single_field, exact_match)"
   ]
  },
  {
   "cell_type": "code",
   "execution_count": null,
   "metadata": {},
   "outputs": [
    {
     "name": "stderr",
     "output_type": "stream",
     "text": [
      "2025-04-04 00:49:08,004 - INFO: Input: compressed_subreddits/soundcloud_comments.zst : Output: decompressed_subreddits/hyperpop_filter/soundcloud_comments.csv : Is submission False\n",
      "2025-04-04 00:49:09,890 - INFO: 2022-03-27 18:29:00 : 100,000 : 159 : 0 : 16,122,225:65%\n",
      "2025-04-04 00:49:11,255 - INFO: 2024-07-30 22:56:20 : 200,000 : 326 : 0 : 23,200,275:93%\n",
      "2025-04-04 00:49:11,938 - INFO: Complete : 255,839 : 412 : 0\n"
     ]
    }
   ],
   "source": [
    "# Filter out r/soundcloud comments that contain the words related to hyperpop\n",
    "\n",
    "input_file = \"compressed_subreddits/soundcloud_comments.zst\"\n",
    "output_file = \"decompressed_subreddits/hyperpop_filter/soundcloud_comments\"\n",
    "\n",
    "filter_comments(input_file, output_file)"
   ]
  },
  {
   "cell_type": "code",
   "execution_count": null,
   "metadata": {},
   "outputs": [
    {
     "name": "stderr",
     "output_type": "stream",
     "text": [
      "[nltk_data] Downloading package stopwords to\n",
      "[nltk_data]     /Users/yonbui/nltk_data...\n",
      "[nltk_data]   Package stopwords is already up-to-date!\n"
     ]
    }
   ],
   "source": [
    "# sentiment analysis functions\n",
    "\n",
    "nltk.download(\"stopwords\")\n",
    "stop_words = set(stopwords.words(\"english\"))\n",
    "\n",
    "def load_data(filename):\n",
    "    \"\"\"Loads Reddit data from a CSV file.\"\"\"\n",
    "    df = pd.read_csv(filename, header=None, names=[\"post_id\", \"date\", \"username\", \"url\", \"text\"])\n",
    "    return df\n",
    "\n",
    "def clean_text(text):\n",
    "    \"\"\"Cleans Reddit post text: removes URLs, special characters, and stopwords.\"\"\"\n",
    "    text = str(text).lower()  # Convert to lowercase\n",
    "    text = re.sub(r\"http\\S+|www\\S+|https\\S+\", \"\", text)  # Remove URLs\n",
    "    text = re.sub(r\"[^a-zA-Z0-9\\s]\", \"\", text)  # Remove special characters\n",
    "    text = \" \".join([word for word in text.split() if word not in stop_words])  # Remove stopwords\n",
    "    return text\n",
    "\n",
    "def apply_cleaning(df):\n",
    "    \"\"\"Applies text cleaning to the dataframe.\"\"\"\n",
    "    df[\"clean_text\"] = df[\"text\"].apply(clean_text)\n",
    "    return df\n",
    "\n",
    "def analyze_sentiment_vader(text, analyzer):\n",
    "    \"\"\"Analyzes sentiment using VADER and returns the compound score.\"\"\"\n",
    "    scores = analyzer.polarity_scores(text)\n",
    "    return scores[\"compound\"]\n",
    "\n",
    "def apply_sentiment_analysis(df):\n",
    "    \"\"\"Applies sentiment analysis to the dataframe.\"\"\"\n",
    "    analyzer = SentimentIntensityAnalyzer()\n",
    "    df[\"sentiment_vader\"] = df[\"clean_text\"].apply(lambda x: analyze_sentiment_vader(x, analyzer))\n",
    "    df[\"sentiment_label\"] = df[\"sentiment_vader\"].apply(lambda x: \"positive\" if x > 0.05 else \"negative\" if x < -0.05 else \"neutral\")\n",
    "    return df\n",
    "\n",
    "def save_results(df, output_filename):\n",
    "    \"\"\"Saves the processed dataframe to a CSV file.\"\"\"\n",
    "    df.to_csv(output_filename, index=False)\n",
    "    print(f\"Results saved to {output_filename}\")\n"
   ]
  },
  {
   "cell_type": "code",
   "execution_count": 6,
   "metadata": {},
   "outputs": [
    {
     "name": "stdout",
     "output_type": "stream",
     "text": [
      "Results saved to sentiments/hyperpop_filter/soundcloud_comments.csv\n"
     ]
    },
    {
     "data": {
      "text/html": [
       "<div>\n",
       "<style scoped>\n",
       "    .dataframe tbody tr th:only-of-type {\n",
       "        vertical-align: middle;\n",
       "    }\n",
       "\n",
       "    .dataframe tbody tr th {\n",
       "        vertical-align: top;\n",
       "    }\n",
       "\n",
       "    .dataframe thead th {\n",
       "        text-align: right;\n",
       "    }\n",
       "</style>\n",
       "<table border=\"1\" class=\"dataframe\">\n",
       "  <thead>\n",
       "    <tr style=\"text-align: right;\">\n",
       "      <th></th>\n",
       "      <th>post_id</th>\n",
       "      <th>date</th>\n",
       "      <th>username</th>\n",
       "      <th>url</th>\n",
       "      <th>text</th>\n",
       "      <th>clean_text</th>\n",
       "      <th>sentiment_vader</th>\n",
       "      <th>sentiment_label</th>\n",
       "    </tr>\n",
       "  </thead>\n",
       "  <tbody>\n",
       "    <tr>\n",
       "      <th>0</th>\n",
       "      <td>1</td>\n",
       "      <td>2018-06-24</td>\n",
       "      <td>u/swaggyop</td>\n",
       "      <td>https://www.reddit.com/r/soundcloud/comments/8...</td>\n",
       "      <td>search up sophie meiers or melanie rosé</td>\n",
       "      <td>search sophie meiers melanie ros</td>\n",
       "      <td>0.0000</td>\n",
       "      <td>neutral</td>\n",
       "    </tr>\n",
       "    <tr>\n",
       "      <th>1</th>\n",
       "      <td>1</td>\n",
       "      <td>2018-11-19</td>\n",
       "      <td>u/JPhillipsENG</td>\n",
       "      <td>https://www.reddit.com/r/soundcloud/comments/9...</td>\n",
       "      <td>Tracklist:\\n\\n1. Ariana Grande - Thank U Next ...</td>\n",
       "      <td>tracklist 1 ariana grande thank u next rudelie...</td>\n",
       "      <td>0.8957</td>\n",
       "      <td>positive</td>\n",
       "    </tr>\n",
       "    <tr>\n",
       "      <th>2</th>\n",
       "      <td>1</td>\n",
       "      <td>2018-12-24</td>\n",
       "      <td>u/AutoModerator</td>\n",
       "      <td>https://www.reddit.com/r/soundcloud/comments/a...</td>\n",
       "      <td>Your post title did not use the proper formatt...</td>\n",
       "      <td>post title use proper formatting guidelines su...</td>\n",
       "      <td>0.4939</td>\n",
       "      <td>positive</td>\n",
       "    </tr>\n",
       "    <tr>\n",
       "      <th>3</th>\n",
       "      <td>1</td>\n",
       "      <td>2018-12-24</td>\n",
       "      <td>u/AutoModerator</td>\n",
       "      <td>https://www.reddit.com/r/soundcloud/comments/a...</td>\n",
       "      <td>Your post was not a link to [SoundCloud](http:...</td>\n",
       "      <td>post link soundcloud submission removed please...</td>\n",
       "      <td>0.4939</td>\n",
       "      <td>positive</td>\n",
       "    </tr>\n",
       "    <tr>\n",
       "      <th>4</th>\n",
       "      <td>1</td>\n",
       "      <td>2019-04-19</td>\n",
       "      <td>u/Lokitorsh</td>\n",
       "      <td>https://www.reddit.com/r/soundcloud/comments/a...</td>\n",
       "      <td>NAME: MA Ç ARICO\\n\\nSOUNDCLOUD:   [https://sou...</td>\n",
       "      <td>name arico soundcloud preference available per...</td>\n",
       "      <td>0.5859</td>\n",
       "      <td>positive</td>\n",
       "    </tr>\n",
       "  </tbody>\n",
       "</table>\n",
       "</div>"
      ],
      "text/plain": [
       "   post_id        date         username  \\\n",
       "0        1  2018-06-24       u/swaggyop   \n",
       "1        1  2018-11-19   u/JPhillipsENG   \n",
       "2        1  2018-12-24  u/AutoModerator   \n",
       "3        1  2018-12-24  u/AutoModerator   \n",
       "4        1  2019-04-19      u/Lokitorsh   \n",
       "\n",
       "                                                 url  \\\n",
       "0  https://www.reddit.com/r/soundcloud/comments/8...   \n",
       "1  https://www.reddit.com/r/soundcloud/comments/9...   \n",
       "2  https://www.reddit.com/r/soundcloud/comments/a...   \n",
       "3  https://www.reddit.com/r/soundcloud/comments/a...   \n",
       "4  https://www.reddit.com/r/soundcloud/comments/a...   \n",
       "\n",
       "                                                text  \\\n",
       "0            search up sophie meiers or melanie rosé   \n",
       "1  Tracklist:\\n\\n1. Ariana Grande - Thank U Next ...   \n",
       "2  Your post title did not use the proper formatt...   \n",
       "3  Your post was not a link to [SoundCloud](http:...   \n",
       "4  NAME: MA Ç ARICO\\n\\nSOUNDCLOUD:   [https://sou...   \n",
       "\n",
       "                                          clean_text  sentiment_vader  \\\n",
       "0                   search sophie meiers melanie ros           0.0000   \n",
       "1  tracklist 1 ariana grande thank u next rudelie...           0.8957   \n",
       "2  post title use proper formatting guidelines su...           0.4939   \n",
       "3  post link soundcloud submission removed please...           0.4939   \n",
       "4  name arico soundcloud preference available per...           0.5859   \n",
       "\n",
       "  sentiment_label  \n",
       "0         neutral  \n",
       "1        positive  \n",
       "2        positive  \n",
       "3        positive  \n",
       "4        positive  "
      ]
     },
     "execution_count": 6,
     "metadata": {},
     "output_type": "execute_result"
    }
   ],
   "source": [
    "# Perform sentiment analysis on the comments\n",
    "filename = \"decompressed_subreddits/hyperpop_filter/soundcloud_comments.csv\" \n",
    "output_filename = \"sentiments/hyperpop_filter/soundcloud_comments.csv\"\n",
    "\n",
    "df = load_data(filename)\n",
    "df = apply_cleaning(df)\n",
    "df = apply_sentiment_analysis(df)\n",
    "\n",
    "save_results(df, output_filename)\n",
    "\n",
    "df.head()"
   ]
  },
  {
   "cell_type": "code",
   "execution_count": 33,
   "metadata": {},
   "outputs": [
    {
     "data": {
      "image/png": "[encoded data removed]",
      "text/plain": [
       "<Figure size 800x600 with 1 Axes>"
      ]
     },
     "metadata": {},
     "output_type": "display_data"
    },
    {
     "data": {
      "image/png": "[encoded data removed]",
      "text/plain": [
       "<Figure size 800x600 with 1 Axes>"
      ]
     },
     "metadata": {},
     "output_type": "display_data"
    },
    {
     "data": {
      "image/png": "[encoded data removed]",
      "text/plain": [
       "<Figure size 800x600 with 1 Axes>"
      ]
     },
     "metadata": {},
     "output_type": "display_data"
    },
    {
     "data": {
      "image/png": "[encoded data removed]",
      "text/plain": [
       "<Figure size 1000x600 with 1 Axes>"
      ]
     },
     "metadata": {},
     "output_type": "display_data"
    }
   ],
   "source": [
    "# Load the processed DataFrame with sentiment analysis results\n",
    "filename = \"sentiments/hyperpop_filter/soundcloud_comments.csv\"\n",
    "df = pd.read_csv(filename)\n",
    "\n",
    "# Set up the visual style for Seaborn\n",
    "sns.set(style=\"whitegrid\")\n",
    "\n",
    "# Create a count plot for sentiment labels (positive, neutral, negative)\n",
    "plt.figure(figsize=(8, 6))\n",
    "sns.countplot(data=df, x=\"sentiment_label\", palette=\"coolwarm\", order=[\"positive\", \"neutral\", \"negative\"]), \n",
    "plt.title(\"Sentiment Distribution of Hyperpop-related Posts on r/SOUNDCLOUD\")\n",
    "plt.xlabel(\"Sentiment Label\")\n",
    "plt.ylabel(\"Number of Posts\")\n",
    "plt.show()\n",
    "\n",
    "# Create a distribution plot for sentiment_vader score\n",
    "plt.figure(figsize=(8, 6))\n",
    "sns.histplot(df[\"sentiment_vader\"], bins=30, kde=True, color=\"skyblue\")\n",
    "plt.title(\"Sentiment Score Distribution (VADER)\")\n",
    "plt.xlabel(\"Sentiment Score\")\n",
    "plt.ylabel(\"Frequency\")\n",
    "plt.show()\n",
    "\n",
    "# Boxplot to show sentiment_vader score distribution by sentiment label\n",
    "plt.figure(figsize=(8, 6))\n",
    "sns.boxplot(x=\"sentiment_label\", y=\"sentiment_vader\", data=df, palette=\"coolwarm\")\n",
    "plt.title(\"Sentiment Score by Sentiment Label\")\n",
    "plt.xlabel(\"Sentiment Label\")\n",
    "plt.ylabel(\"Sentiment Score (VADER)\")\n",
    "plt.show()\n",
    "\n",
    "# Plot sentiment distribution by year as a line graph.\n",
    "\n",
    "# Ensure date is datetime\n",
    "df[\"date\"] = pd.to_datetime(df[\"date\"], errors=\"coerce\")\n",
    "\n",
    "# Drop rows with invalid dates\n",
    "df = df.dropna(subset=[\"date\"])\n",
    "\n",
    "# Extract year\n",
    "df[\"year\"] = df[\"date\"].dt.year\n",
    "\n",
    "# Count sentiment per year\n",
    "sentiment_counts = df.groupby([\"year\", \"sentiment_label\"]).size().reset_index(name=\"count\")\n",
    "\n",
    "# Pivot for line plot\n",
    "sentiment_pivot = sentiment_counts.pivot_table(index=\"year\", columns=\"sentiment_label\", values=\"count\", aggfunc=\"sum\").fillna(0)\n",
    "\n",
    "# Define custom colors and line widths for each sentiment\n",
    "line_colors = {\n",
    "    \"positive\": \"#5BCEFA\",\n",
    "    \"neutral\": \"#C0C0C0\",\n",
    "    \"negative\": \"#F5A9B8\"\n",
    "}\n",
    "\n",
    "# Plot\n",
    "ax = sentiment_pivot.plot(\n",
    "    kind=\"line\",\n",
    "    marker=\"o\",\n",
    "    linestyle='-',\n",
    "    figsize=(10, 6),\n",
    "    color=[line_colors[col] for col in sentiment_pivot.columns]\n",
    ")\n",
    "\n",
    "# Apply line widths\n",
    "for line, col in zip(ax.lines, sentiment_pivot.columns):\n",
    "    line.set_linewidth(3)\n",
    "\n",
    "# Titles and labels\n",
    "plt.title(\"r/soundcloud Sentiment Distribution by Year (Hyperpop-related Posts)\", fontsize=18)\n",
    "plt.xlabel(\"\", fontsize=14)\n",
    "plt.xticks(fontsize=14)\n",
    "plt.ylabel(\"Number of Posts\", fontsize=16)\n",
    "plt.legend(title=\"Sentiment\", fontsize=12)\n",
    "plt.tight_layout()\n",
    "plt.show()\n"
   ]
  },
  {
   "cell_type": "code",
   "execution_count": 7,
   "metadata": {},
   "outputs": [
    {
     "name": "stderr",
     "output_type": "stream",
     "text": [
      "2025-05-01 17:53:12,402 - INFO: Input: compressed_subreddits/soundcloud_comments.zst : Output: decompressed_subreddits/soundcloud_comments.csv : Is submission False\n",
      "2025-05-01 17:53:14,602 - INFO: 2022-03-27 18:29:00 : 100,000 : 99,999 : 0 : 16,122,225:65%\n",
      "2025-05-01 17:53:16,142 - INFO: 2024-07-30 22:56:20 : 200,000 : 199,999 : 0 : 23,200,275:93%\n",
      "2025-05-01 17:53:16,956 - INFO: Complete : 255,839 : 255,839 : 0\n"
     ]
    }
   ],
   "source": [
    "# decompress r/HYPERPOP comments\n",
    "input_file = \"compressed_subreddits/soundcloud_comments.zst\"\n",
    "output_file = \"decompressed_subreddits/soundcloud_comments\"\n",
    "output_format = \"csv\"\n",
    "from_date = datetime.strptime(\"2005-01-01\", \"%Y-%m-%d\")\n",
    "to_date = datetime.strptime(\"2030-12-31\", \"%Y-%m-%d\")\n",
    "single_field = None\n",
    "field = None\n",
    "values = ['']\n",
    "exact_match = False  \n",
    "process_file(input_file, output_file, output_format, field, values, from_date, to_date, single_field, exact_match)"
   ]
  },
  {
   "cell_type": "code",
   "execution_count": 4,
   "metadata": {},
   "outputs": [],
   "source": [
    "# Read the CSV file\n",
    "df = pd.read_csv(\"decompressed_subreddits/soundcloud_comments.csv\", header=None, names=[\"post_id\", \"date\", \"username\", \"url\", \"text\"])\n",
    "\n",
    "# Drop non-string or missing comments\n",
    "df = df[df[\"text\"].apply(lambda x: isinstance(x, str))]\n",
    "df = df[df[\"text\"].notna()]\n",
    "\n",
    "# Basic filtering\n",
    "df = df[df[\"text\"].str.split().str.len().between(2, 500)]  # Min 2 words, max 500\n",
    "\n",
    "# Remove URLs and special characters\n",
    "def clean_text(text):\n",
    "    text = re.sub(r\"http\\S+|www\\S+|https\\S+\", \"\", text)       # Remove URLs\n",
    "    text = re.sub(r\"[^a-zA-Z0-9\\s]\", \"\", text)                # Remove symbols\n",
    "    return text\n",
    "\n",
    "# Apply the cleaning function to the 'text' column\n",
    "df[\"clean_text\"] = df[\"text\"].apply(clean_text)\n",
    "\n",
    "# convert to lists for BERTopic\n",
    "docs = df[\"clean_text\"].tolist()\n",
    "timestamps = df[\"date\"].tolist()"
   ]
  },
  {
   "cell_type": "code",
   "execution_count": null,
   "metadata": {},
   "outputs": [
    {
     "name": "stderr",
     "output_type": "stream",
     "text": [
      "2025-05-02 06:30:05,664 - BERTopic - Embedding - Transforming documents to embeddings.\n",
      "Batches: 100%|██████████| 6694/6694 [03:24<00:00, 32.68it/s]\n",
      "2025-05-02 06:33:36,279 - BERTopic - Embedding - Completed ✓\n",
      "2025-05-02 06:33:36,280 - BERTopic - Dimensionality - Fitting the dimensionality reduction algorithm\n",
      "OMP: Info #276: omp_set_nested routine deprecated, please use omp_set_max_active_levels instead.\n",
      "2025-05-02 07:05:23,248 - BERTopic - Dimensionality - Completed ✓\n",
      "2025-05-02 07:05:23,253 - BERTopic - Cluster - Start clustering the reduced embeddings\n",
      "2025-05-02 07:05:48,382 - BERTopic - Cluster - Completed ✓\n",
      "2025-05-02 07:05:48,412 - BERTopic - Representation - Fine-tuning topics using representation models.\n",
      "2025-05-02 07:05:51,021 - BERTopic - Representation - Completed ✓\n"
     ]
    }
   ],
   "source": [
    "umap_model = umap.UMAP(n_neighbors=15, n_components=5, metric='cosine')\n",
    "hdbscan_model = HDBSCAN(min_cluster_size=30, prediction_data=True)\n",
    "\n",
    "topic_model = BERTopic(\n",
    "    umap_model=umap_model,\n",
    "    hdbscan_model=hdbscan_model,\n",
    "    calculate_probabilities=False,\n",
    "    low_memory=True,\n",
    "    verbose=True\n",
    ")\n",
    "\n",
    "topics, probs = topic_model.fit_transform(docs)\n",
    "\n",
    "\n",
    "# Save the topics and probabilities to a Pickle file\n",
    "with open(\"soundcloud_topics_and_probs.pkl\", \"wb\") as f:\n",
    "    pickle.dump(topic_model, f)"
   ]
  },
  {
   "cell_type": "code",
   "execution_count": 6,
   "metadata": {},
   "outputs": [
    {
     "name": "stderr",
     "output_type": "stream",
     "text": [
      "15it [00:15,  1.03s/it]\n"
     ]
    }
   ],
   "source": [
    "# Get the topic information over time\n",
    "\n",
    "with open(\"soundcloud_topics_and_probs.pkl\", \"rb\") as f:\n",
    "    topic_model = pickle.load(f)\n",
    "\n",
    "# Convert timestamps to datetime objects\n",
    "timestamps_dt = [datetime.strptime(ts, \"%Y-%m-%d\") for ts in timestamps]\n",
    "\n",
    "# Grab the year from each timestamp \n",
    "timestamps_yearly = [ts.year for ts in timestamps_dt]\n",
    "\n",
    "topics_over_time = topic_model.topics_over_time(docs, timestamps=timestamps_yearly) \n",
    "\n",
    "# Save the topics over time to a Pickle file\n",
    "with open(\"soundcloud_topics_over_time.pkl\", \"wb\") as f:\n",
    "    pickle.dump(topics_over_time, f)"
   ]
  },
  {
   "cell_type": "code",
   "execution_count": null,
   "metadata": {},
   "outputs": [
    {
     "name": "stdout",
     "output_type": "stream",
     "text": [
      "     Topic                                     Name\n",
      "7        6                6_track_latest_nice_heres\n",
      "75      74            74_private_track_click_public\n",
      "200    199  199_rroastmytrack_requirements_both_amp\n",
      "439    438             438_tha_trackz_theze_knightz\n",
      "554    553               553_chould_track_love_song\n",
      "585    584              584_tha_trackz_theze_twynnr\n",
      "598    597            597_house_track_latest_recent\n",
      "606    605                     605_yu_fw_drop_track\n"
     ]
    }
   ],
   "source": [
    "with open(\"soundcloud_topics_and_probs.pkl\", \"rb\") as f:\n",
    "    topic_model = pickle.load(f)\n",
    "\n",
    "# Define a list of words to search for in the topic names\n",
    "search_terms = [\"charli xcx, hyperpop\", \"100 gecs\", \"sophie\", \"ag cook\", \"danny l harle\",]\n",
    "\n",
    "# Combine the search terms into a single regular expression (case-insensitive)\n",
    "pattern = \"|\".join(search_terms)\n",
    "\n",
    "# Get topic information\n",
    "topic_info = topic_model.get_topic_info()\n",
    "\n",
    "# Search for topics whose name contains any of the search terms\n",
    "matches = topic_info[topic_info[\"Name\"].str.contains(pattern, case=False)]\n",
    "\n",
    "\n",
    "print(matches[[\"Topic\", \"Name\"]])"
   ]
  },
  {
   "cell_type": "code",
   "execution_count": 9,
   "metadata": {},
   "outputs": [
    {
     "data": {
      "application/vnd.plotly.v1+json": {
       "config": {
        "plotlyServerURL": "https://plot.ly"
       },
       "data": [
        {
         "hoverinfo": "text",
         "hovertext": [
          "<b>Topic 1</b><br>Words: appgoogl, advised, player, allowed, break",
          "<b>Topic 1</b><br>Words: appgoogl, advised, player, allowed, break",
          "<b>Topic 1</b><br>Words: appgoogl, advised, player, allowed, break"
         ],
         "marker": {
          "color": "#E69F00"
         },
         "mode": "lines",
         "name": "1_appgoogl_advised_player_allowed",
         "type": "scatter",
         "x": {
          "bdata": "5QfmB+cH",
          "dtype": "i2"
         },
         "y": {
          "bdata": "ig+xDf0A",
          "dtype": "i2"
         }
        },
        {
         "hoverinfo": "text",
         "hovertext": [
          "<b>Topic 2</b><br>Words: submissionmessagei, formatting, proper, title, guidelines",
          "<b>Topic 2</b><br>Words: submissionmessagei, formatting, proper, title, guidelines"
         ],
         "marker": {
          "color": "#56B4E9"
         },
         "mode": "lines",
         "name": "2_submissionmessagei_formatting_proper_t...",
         "type": "scatter",
         "x": {
          "bdata": "5wfoBw==",
          "dtype": "i2"
         },
         "y": {
          "bdata": "bAgUEA==",
          "dtype": "i2"
         }
        },
        {
         "hoverinfo": "text",
         "hovertext": [
          "<b>Topic 3</b><br>Words: 11, sidebar, specifically, rule, check",
          "<b>Topic 3</b><br>Words: 11, sidebar, specifically, rule, check",
          "<b>Topic 3</b><br>Words: 11, sidebar, specifically, rule, check",
          "<b>Topic 3</b><br>Words: 11, sidebar, specifically, rule, check",
          "<b>Topic 3</b><br>Words: 11, sidebar, specifically, rule, check",
          "<b>Topic 3</b><br>Words: 11, sidebar, specifically, rule, check"
         ],
         "marker": {
          "color": "#009E73"
         },
         "mode": "lines",
         "name": "3_11_sidebar_specifically_rule",
         "type": "scatter",
         "x": {
          "bdata": "4AfhB+IH4wfkB+UH",
          "dtype": "i2"
         },
         "y": {
          "bdata": "cAC7AH0BuQLHBBMB",
          "dtype": "i2"
         }
        },
        {
         "hoverinfo": "text",
         "hovertext": [
          "<b>Topic 4</b><br>Words: submissionmessagei, appgoogl, advised, player, allowed",
          "<b>Topic 4</b><br>Words: submissionmessagei, appgoogl, advised, player, allowed"
         ],
         "marker": {
          "color": "#F0E442"
         },
         "mode": "lines",
         "name": "4_submissionmessagei_appgoogl_advised_pl...",
         "type": "scatter",
         "x": {
          "bdata": "5wfoBw==",
          "dtype": "i2"
         },
         "y": {
          "bdata": "EwM6BQ==",
          "dtype": "i2"
         }
        },
        {
         "hoverinfo": "text",
         "hovertext": [
          "<b>Topic 5</b><br>Words: sidebar, specifically, rule, posts, check",
          "<b>Topic 5</b><br>Words: sidebar, specifically, rule, posts, check"
         ],
         "marker": {
          "color": "#D55E00"
         },
         "mode": "lines",
         "name": "5_sidebar_specifically_rule_posts",
         "type": "scatter",
         "x": {
          "bdata": "4AfhBw==",
          "dtype": "i2"
         },
         "y": {
          "bdata": "pwEMBg==",
          "dtype": "i2"
         }
        },
        {
         "hoverinfo": "text",
         "hovertext": [
          "<b>Topic 6</b><br>Words: another, track, latest, nice, heres",
          "<b>Topic 6</b><br>Words: testing, refreshing, ideas, ty, gotten",
          "<b>Topic 6</b><br>Words: trancy, club, program, playing, produce",
          "<b>Topic 6</b><br>Words: proggy, insanity, dig, awesome, track",
          "<b>Topic 6</b><br>Words: trackgives, worklt3, collectible, track, concentration",
          "<b>Topic 6</b><br>Words: track, superb, snitched, amine, violate",
          "<b>Topic 6</b><br>Words: track, feedback, nice, thanks, dope",
          "<b>Topic 6</b><br>Words: track, diss, latest, nice, guys",
          "<b>Topic 6</b><br>Words: track, nice, latest, man, heres",
          "<b>Topic 6</b><br>Words: track, latest, feedback, great, nice",
          "<b>Topic 6</b><br>Words: track, first, man, dope, thoughts",
          "<b>Topic 6</b><br>Words: track, latest, diss, nice, first",
          "<b>Topic 6</b><br>Words: track, latest, heres, nice, feedback"
         ],
         "marker": {
          "color": "#0072B2"
         },
         "mode": "lines",
         "name": "6_track_latest_nice_heres",
         "type": "scatter",
         "x": {
          "bdata": "2wfcB90H3wfgB+EH4gfjB+QH5QfmB+cH6Ac=",
          "dtype": "i2"
         },
         "y": {
          "bdata": "AQABAAEAAQAJABUAgQCEAPEAewA7AFYAawQ=",
          "dtype": "i2"
         }
        },
        {
         "hoverinfo": "text",
         "hovertext": [
          "<b>Topic 7</b><br>Words: preference, obtain, permissions, entirety, credit",
          "<b>Topic 7</b><br>Words: obtain, preference, permissions, profile, credit",
          "<b>Topic 7</b><br>Words: obtain, preference, permissions, profile, credit",
          "<b>Topic 7</b><br>Words: obtain, preference, permissions, profile, name",
          "<b>Topic 7</b><br>Words: obtain, preference, permissions, profile, name",
          "<b>Topic 7</b><br>Words: obtain, preference, permissions, profile, name",
          "<b>Topic 7</b><br>Words: preference, obtain, permissions, profile, name",
          "<b>Topic 7</b><br>Words: soundcloudcomunderising, america, french, profiles, blow",
          "<b>Topic 7</b><br>Words: pychpmp, cruel, device, permissions, obtain"
         ],
         "marker": {
          "color": "#CC79A7"
         },
         "mode": "lines",
         "name": "7_obtain_preference_permissions_profile",
         "type": "scatter",
         "x": {
          "bdata": "4AfhB+IH4wfkB+UH5gfnB+gH",
          "dtype": "i2"
         },
         "y": {
          "bdata": "GgC8AH4BSgGpAQEBmQACAAwA",
          "dtype": "i2"
         }
        },
        {
         "hoverinfo": "text",
         "hovertext": [
          "<b>Topic 8</b><br>Words: withdrawn, factors, specific, unique, end",
          "<b>Topic 8</b><br>Words: arounddo, areas, irl, demos, hand",
          "<b>Topic 8</b><br>Words: rectoactively, negative, stereogum, pitchfork, tearing",
          "<b>Topic 8</b><br>Words: confident, favorite, start, step, music",
          "<b>Topic 8</b><br>Words: people, music, make, yourself, youre",
          "<b>Topic 8</b><br>Words: music, people, make, making, marketing",
          "<b>Topic 8</b><br>Words: promote, music, audience, worldwide, reach",
          "<b>Topic 8</b><br>Words: music, promote, making, people, promotion",
          "<b>Topic 8</b><br>Words: music, make, people, making, promote",
          "<b>Topic 8</b><br>Words: people, music, make, making, yourself",
          "<b>Topic 8</b><br>Words: music, making, people, make, yourself"
         ],
         "marker": {
          "color": "#E69F00"
         },
         "mode": "lines",
         "name": "8_music_people_making_make",
         "type": "scatter",
         "x": {
          "bdata": "2wfdB+AH4QfiB+MH5AflB+YH5wfoBw==",
          "dtype": "i2"
         },
         "y": {
          "bdata": "AQABAAcACQAtAFYAFQFvAEsAaADFAw==",
          "dtype": "i2"
         }
        },
        {
         "hoverinfo": "text",
         "hovertext": [
          "<b>Topic 9</b><br>Words: skipped, wondering, update, beats, those",
          "<b>Topic 9</b><br>Words: beatbox, fulfill, beats, choices, bored",
          "<b>Topic 9</b><br>Words: beats, free, yo, are, use",
          "<b>Topic 9</b><br>Words: voices, beat, quiet, loud, intro",
          "<b>Topic 9</b><br>Words: beats, beat, creepyambient, murk, outsiddes",
          "<b>Topic 9</b><br>Words: beats, beat, type, free, cashrolliebeatscom",
          "<b>Topic 9</b><br>Words: beats, beat, free, make, send",
          "<b>Topic 9</b><br>Words: beats, beat, free, type, beatstars",
          "<b>Topic 9</b><br>Words: beats, beat, type, make, hard",
          "<b>Topic 9</b><br>Words: beats, beat, type, make, need",
          "<b>Topic 9</b><br>Words: beats, beat, make, send, free",
          "<b>Topic 9</b><br>Words: beats, beat, make, type, free"
         ],
         "marker": {
          "color": "#56B4E9"
         },
         "mode": "lines",
         "name": "9_beats_beat_make_type",
         "type": "scatter",
         "x": {
          "bdata": "3AfdB98H4AfhB+IH4wfkB+UH5gfnB+gH",
          "dtype": "i2"
         },
         "y": {
          "bdata": "AQACAAIABAARAGIAuwDCAEgASgBaAL4C",
          "dtype": "i2"
         }
        },
        {
         "hoverinfo": "text",
         "hovertext": [
          "<b>Topic 10</b><br>Words: ouk, unaved, aw, , ",
          "<b>Topic 10</b><br>Words: ouk, unaved, aw, , ",
          "<b>Topic 10</b><br>Words: ouk, unaved, aw, , ",
          "<b>Topic 10</b><br>Words: ouk, unaved, aw, , ",
          "<b>Topic 10</b><br>Words: ouk, unaved, aw, , ",
          "<b>Topic 10</b><br>Words: aw, ouk, unaved, , ",
          "<b>Topic 10</b><br>Words: ouk, unaved, aw, , ",
          "<b>Topic 10</b><br>Words: ouk, unaved, aw, , ",
          "<b>Topic 10</b><br>Words: ouk, unaved, aw, , ",
          "<b>Topic 10</b><br>Words: ouk, unaved, aw, , "
         ],
         "marker": {
          "color": "#009E73"
         },
         "mode": "lines",
         "name": "10_ouk_unaved_aw_",
         "type": "scatter",
         "x": {
          "bdata": "3QffB+EH4gfjB+QH5QfmB+cH6Ac=",
          "dtype": "i2"
         },
         "y": {
          "bdata": "AQABAAEADgApAFMAMwAdADkAigM=",
          "dtype": "i2"
         }
        }
       ],
       "layout": {
        "height": 400,
        "hoverlabel": {
         "bgcolor": "white",
         "font": {
          "family": "Rockwell",
          "size": 16
         }
        },
        "legend": {
         "title": {
          "text": "<b>Global Topic Representation"
         }
        },
        "template": {
         "data": {
          "bar": [
           {
            "error_x": {
             "color": "rgb(36,36,36)"
            },
            "error_y": {
             "color": "rgb(36,36,36)"
            },
            "marker": {
             "line": {
              "color": "white",
              "width": 0.5
             },
             "pattern": {
              "fillmode": "overlay",
              "size": 10,
              "solidity": 0.2
             }
            },
            "type": "bar"
           }
          ],
          "barpolar": [
           {
            "marker": {
             "line": {
              "color": "white",
              "width": 0.5
             },
             "pattern": {
              "fillmode": "overlay",
              "size": 10,
              "solidity": 0.2
             }
            },
            "type": "barpolar"
           }
          ],
          "carpet": [
           {
            "aaxis": {
             "endlinecolor": "rgb(36,36,36)",
             "gridcolor": "white",
             "linecolor": "white",
             "minorgridcolor": "white",
             "startlinecolor": "rgb(36,36,36)"
            },
            "baxis": {
             "endlinecolor": "rgb(36,36,36)",
             "gridcolor": "white",
             "linecolor": "white",
             "minorgridcolor": "white",
             "startlinecolor": "rgb(36,36,36)"
            },
            "type": "carpet"
           }
          ],
          "choropleth": [
           {
            "colorbar": {
             "outlinewidth": 1,
             "tickcolor": "rgb(36,36,36)",
             "ticks": "outside"
            },
            "type": "choropleth"
           }
          ],
          "contour": [
           {
            "colorbar": {
             "outlinewidth": 1,
             "tickcolor": "rgb(36,36,36)",
             "ticks": "outside"
            },
            "colorscale": [
             [
              0,
              "#440154"
             ],
             [
              0.1111111111111111,
              "#482878"
             ],
             [
              0.2222222222222222,
              "#3e4989"
             ],
             [
              0.3333333333333333,
              "#31688e"
             ],
             [
              0.4444444444444444,
              "#26828e"
             ],
             [
              0.5555555555555556,
              "#1f9e89"
             ],
             [
              0.6666666666666666,
              "#35b779"
             ],
             [
              0.7777777777777778,
              "#6ece58"
             ],
             [
              0.8888888888888888,
              "#b5de2b"
             ],
             [
              1,
              "#fde725"
             ]
            ],
            "type": "contour"
           }
          ],
          "contourcarpet": [
           {
            "colorbar": {
             "outlinewidth": 1,
             "tickcolor": "rgb(36,36,36)",
             "ticks": "outside"
            },
            "type": "contourcarpet"
           }
          ],
          "heatmap": [
           {
            "colorbar": {
             "outlinewidth": 1,
             "tickcolor": "rgb(36,36,36)",
             "ticks": "outside"
            },
            "colorscale": [
             [
              0,
              "#440154"
             ],
             [
              0.1111111111111111,
              "#482878"
             ],
             [
              0.2222222222222222,
              "#3e4989"
             ],
             [
              0.3333333333333333,
              "#31688e"
             ],
             [
              0.4444444444444444,
              "#26828e"
             ],
             [
              0.5555555555555556,
              "#1f9e89"
             ],
             [
              0.6666666666666666,
              "#35b779"
             ],
             [
              0.7777777777777778,
              "#6ece58"
             ],
             [
              0.8888888888888888,
              "#b5de2b"
             ],
             [
              1,
              "#fde725"
             ]
            ],
            "type": "heatmap"
           }
          ],
          "histogram": [
           {
            "marker": {
             "line": {
              "color": "white",
              "width": 0.6
             }
            },
            "type": "histogram"
           }
          ],
          "histogram2d": [
           {
            "colorbar": {
             "outlinewidth": 1,
             "tickcolor": "rgb(36,36,36)",
             "ticks": "outside"
            },
            "colorscale": [
             [
              0,
              "#440154"
             ],
             [
              0.1111111111111111,
              "#482878"
             ],
             [
              0.2222222222222222,
              "#3e4989"
             ],
             [
              0.3333333333333333,
              "#31688e"
             ],
             [
              0.4444444444444444,
              "#26828e"
             ],
             [
              0.5555555555555556,
              "#1f9e89"
             ],
             [
              0.6666666666666666,
              "#35b779"
             ],
             [
              0.7777777777777778,
              "#6ece58"
             ],
             [
              0.8888888888888888,
              "#b5de2b"
             ],
             [
              1,
              "#fde725"
             ]
            ],
            "type": "histogram2d"
           }
          ],
          "histogram2dcontour": [
           {
            "colorbar": {
             "outlinewidth": 1,
             "tickcolor": "rgb(36,36,36)",
             "ticks": "outside"
            },
            "colorscale": [
             [
              0,
              "#440154"
             ],
             [
              0.1111111111111111,
              "#482878"
             ],
             [
              0.2222222222222222,
              "#3e4989"
             ],
             [
              0.3333333333333333,
              "#31688e"
             ],
             [
              0.4444444444444444,
              "#26828e"
             ],
             [
              0.5555555555555556,
              "#1f9e89"
             ],
             [
              0.6666666666666666,
              "#35b779"
             ],
             [
              0.7777777777777778,
              "#6ece58"
             ],
             [
              0.8888888888888888,
              "#b5de2b"
             ],
             [
              1,
              "#fde725"
             ]
            ],
            "type": "histogram2dcontour"
           }
          ],
          "mesh3d": [
           {
            "colorbar": {
             "outlinewidth": 1,
             "tickcolor": "rgb(36,36,36)",
             "ticks": "outside"
            },
            "type": "mesh3d"
           }
          ],
          "parcoords": [
           {
            "line": {
             "colorbar": {
              "outlinewidth": 1,
              "tickcolor": "rgb(36,36,36)",
              "ticks": "outside"
             }
            },
            "type": "parcoords"
           }
          ],
          "pie": [
           {
            "automargin": true,
            "type": "pie"
           }
          ],
          "scatter": [
           {
            "fillpattern": {
             "fillmode": "overlay",
             "size": 10,
             "solidity": 0.2
            },
            "type": "scatter"
           }
          ],
          "scatter3d": [
           {
            "line": {
             "colorbar": {
              "outlinewidth": 1,
              "tickcolor": "rgb(36,36,36)",
              "ticks": "outside"
             }
            },
            "marker": {
             "colorbar": {
              "outlinewidth": 1,
              "tickcolor": "rgb(36,36,36)",
              "ticks": "outside"
             }
            },
            "type": "scatter3d"
           }
          ],
          "scattercarpet": [
           {
            "marker": {
             "colorbar": {
              "outlinewidth": 1,
              "tickcolor": "rgb(36,36,36)",
              "ticks": "outside"
             }
            },
            "type": "scattercarpet"
           }
          ],
          "scattergeo": [
           {
            "marker": {
             "colorbar": {
              "outlinewidth": 1,
              "tickcolor": "rgb(36,36,36)",
              "ticks": "outside"
             }
            },
            "type": "scattergeo"
           }
          ],
          "scattergl": [
           {
            "marker": {
             "colorbar": {
              "outlinewidth": 1,
              "tickcolor": "rgb(36,36,36)",
              "ticks": "outside"
             }
            },
            "type": "scattergl"
           }
          ],
          "scattermap": [
           {
            "marker": {
             "colorbar": {
              "outlinewidth": 1,
              "tickcolor": "rgb(36,36,36)",
              "ticks": "outside"
             }
            },
            "type": "scattermap"
           }
          ],
          "scattermapbox": [
           {
            "marker": {
             "colorbar": {
              "outlinewidth": 1,
              "tickcolor": "rgb(36,36,36)",
              "ticks": "outside"
             }
            },
            "type": "scattermapbox"
           }
          ],
          "scatterpolar": [
           {
            "marker": {
             "colorbar": {
              "outlinewidth": 1,
              "tickcolor": "rgb(36,36,36)",
              "ticks": "outside"
             }
            },
            "type": "scatterpolar"
           }
          ],
          "scatterpolargl": [
           {
            "marker": {
             "colorbar": {
              "outlinewidth": 1,
              "tickcolor": "rgb(36,36,36)",
              "ticks": "outside"
             }
            },
            "type": "scatterpolargl"
           }
          ],
          "scatterternary": [
           {
            "marker": {
             "colorbar": {
              "outlinewidth": 1,
              "tickcolor": "rgb(36,36,36)",
              "ticks": "outside"
             }
            },
            "type": "scatterternary"
           }
          ],
          "surface": [
           {
            "colorbar": {
             "outlinewidth": 1,
             "tickcolor": "rgb(36,36,36)",
             "ticks": "outside"
            },
            "colorscale": [
             [
              0,
              "#440154"
             ],
             [
              0.1111111111111111,
              "#482878"
             ],
             [
              0.2222222222222222,
              "#3e4989"
             ],
             [
              0.3333333333333333,
              "#31688e"
             ],
             [
              0.4444444444444444,
              "#26828e"
             ],
             [
              0.5555555555555556,
              "#1f9e89"
             ],
             [
              0.6666666666666666,
              "#35b779"
             ],
             [
              0.7777777777777778,
              "#6ece58"
             ],
             [
              0.8888888888888888,
              "#b5de2b"
             ],
             [
              1,
              "#fde725"
             ]
            ],
            "type": "surface"
           }
          ],
          "table": [
           {
            "cells": {
             "fill": {
              "color": "rgb(237,237,237)"
             },
             "line": {
              "color": "white"
             }
            },
            "header": {
             "fill": {
              "color": "rgb(217,217,217)"
             },
             "line": {
              "color": "white"
             }
            },
            "type": "table"
           }
          ]
         },
         "layout": {
          "annotationdefaults": {
           "arrowhead": 0,
           "arrowwidth": 1
          },
          "autotypenumbers": "strict",
          "coloraxis": {
           "colorbar": {
            "outlinewidth": 1,
            "tickcolor": "rgb(36,36,36)",
            "ticks": "outside"
           }
          },
          "colorscale": {
           "diverging": [
            [
             0,
             "rgb(103,0,31)"
            ],
            [
             0.1,
             "rgb(178,24,43)"
            ],
            [
             0.2,
             "rgb(214,96,77)"
            ],
            [
             0.3,
             "rgb(244,165,130)"
            ],
            [
             0.4,
             "rgb(253,219,199)"
            ],
            [
             0.5,
             "rgb(247,247,247)"
            ],
            [
             0.6,
             "rgb(209,229,240)"
            ],
            [
             0.7,
             "rgb(146,197,222)"
            ],
            [
             0.8,
             "rgb(67,147,195)"
            ],
            [
             0.9,
             "rgb(33,102,172)"
            ],
            [
             1,
             "rgb(5,48,97)"
            ]
           ],
           "sequential": [
            [
             0,
             "#440154"
            ],
            [
             0.1111111111111111,
             "#482878"
            ],
            [
             0.2222222222222222,
             "#3e4989"
            ],
            [
             0.3333333333333333,
             "#31688e"
            ],
            [
             0.4444444444444444,
             "#26828e"
            ],
            [
             0.5555555555555556,
             "#1f9e89"
            ],
            [
             0.6666666666666666,
             "#35b779"
            ],
            [
             0.7777777777777778,
             "#6ece58"
            ],
            [
             0.8888888888888888,
             "#b5de2b"
            ],
            [
             1,
             "#fde725"
            ]
           ],
           "sequentialminus": [
            [
             0,
             "#440154"
            ],
            [
             0.1111111111111111,
             "#482878"
            ],
            [
             0.2222222222222222,
             "#3e4989"
            ],
            [
             0.3333333333333333,
             "#31688e"
            ],
            [
             0.4444444444444444,
             "#26828e"
            ],
            [
             0.5555555555555556,
             "#1f9e89"
            ],
            [
             0.6666666666666666,
             "#35b779"
            ],
            [
             0.7777777777777778,
             "#6ece58"
            ],
            [
             0.8888888888888888,
             "#b5de2b"
            ],
            [
             1,
             "#fde725"
            ]
           ]
          },
          "colorway": [
           "#1F77B4",
           "#FF7F0E",
           "#2CA02C",
           "#D62728",
           "#9467BD",
           "#8C564B",
           "#E377C2",
           "#7F7F7F",
           "#BCBD22",
           "#17BECF"
          ],
          "font": {
           "color": "rgb(36,36,36)"
          },
          "geo": {
           "bgcolor": "white",
           "lakecolor": "white",
           "landcolor": "white",
           "showlakes": true,
           "showland": true,
           "subunitcolor": "white"
          },
          "hoverlabel": {
           "align": "left"
          },
          "hovermode": "closest",
          "mapbox": {
           "style": "light"
          },
          "paper_bgcolor": "white",
          "plot_bgcolor": "white",
          "polar": {
           "angularaxis": {
            "gridcolor": "rgb(232,232,232)",
            "linecolor": "rgb(36,36,36)",
            "showgrid": false,
            "showline": true,
            "ticks": "outside"
           },
           "bgcolor": "white",
           "radialaxis": {
            "gridcolor": "rgb(232,232,232)",
            "linecolor": "rgb(36,36,36)",
            "showgrid": false,
            "showline": true,
            "ticks": "outside"
           }
          },
          "scene": {
           "xaxis": {
            "backgroundcolor": "white",
            "gridcolor": "rgb(232,232,232)",
            "gridwidth": 2,
            "linecolor": "rgb(36,36,36)",
            "showbackground": true,
            "showgrid": false,
            "showline": true,
            "ticks": "outside",
            "zeroline": false,
            "zerolinecolor": "rgb(36,36,36)"
           },
           "yaxis": {
            "backgroundcolor": "white",
            "gridcolor": "rgb(232,232,232)",
            "gridwidth": 2,
            "linecolor": "rgb(36,36,36)",
            "showbackground": true,
            "showgrid": false,
            "showline": true,
            "ticks": "outside",
            "zeroline": false,
            "zerolinecolor": "rgb(36,36,36)"
           },
           "zaxis": {
            "backgroundcolor": "white",
            "gridcolor": "rgb(232,232,232)",
            "gridwidth": 2,
            "linecolor": "rgb(36,36,36)",
            "showbackground": true,
            "showgrid": false,
            "showline": true,
            "ticks": "outside",
            "zeroline": false,
            "zerolinecolor": "rgb(36,36,36)"
           }
          },
          "shapedefaults": {
           "fillcolor": "black",
           "line": {
            "width": 0
           },
           "opacity": 0.3
          },
          "ternary": {
           "aaxis": {
            "gridcolor": "rgb(232,232,232)",
            "linecolor": "rgb(36,36,36)",
            "showgrid": false,
            "showline": true,
            "ticks": "outside"
           },
           "baxis": {
            "gridcolor": "rgb(232,232,232)",
            "linecolor": "rgb(36,36,36)",
            "showgrid": false,
            "showline": true,
            "ticks": "outside"
           },
           "bgcolor": "white",
           "caxis": {
            "gridcolor": "rgb(232,232,232)",
            "linecolor": "rgb(36,36,36)",
            "showgrid": false,
            "showline": true,
            "ticks": "outside"
           }
          },
          "title": {
           "x": 0.05
          },
          "xaxis": {
           "automargin": true,
           "gridcolor": "rgb(232,232,232)",
           "linecolor": "rgb(36,36,36)",
           "showgrid": false,
           "showline": true,
           "ticks": "outside",
           "title": {
            "standoff": 15
           },
           "zeroline": false,
           "zerolinecolor": "rgb(36,36,36)"
          },
          "yaxis": {
           "automargin": true,
           "gridcolor": "rgb(232,232,232)",
           "linecolor": "rgb(36,36,36)",
           "showgrid": false,
           "showline": true,
           "ticks": "outside",
           "title": {
            "standoff": 15
           },
           "zeroline": false,
           "zerolinecolor": "rgb(36,36,36)"
          }
         }
        },
        "title": {
         "font": {
          "color": "Black",
          "size": 22
         },
         "text": "Top r/Soundcloud Topics Over Time",
         "x": 0.4,
         "xanchor": "center",
         "y": 0.95,
         "yanchor": "top"
        },
        "width": 800,
        "xaxis": {
         "showgrid": true
        },
        "yaxis": {
         "showgrid": true,
         "title": {
          "text": "Frequency"
         }
        }
       }
      }
     },
     "metadata": {},
     "output_type": "display_data"
    }
   ],
   "source": [
    "topic_model.visualize_topics_over_time(topics_over_time, topics=[1, 2, 3, 4, 5, 6, 7, 8, 9, 10], title=\"Top r/Soundcloud Topics Over Time\", width=800, height=400)\n"
   ]
  },
  {
   "cell_type": "code",
   "execution_count": 16,
   "metadata": {},
   "outputs": [
    {
     "data": {
      "application/vnd.plotly.v1+json": {
       "config": {
        "plotlyServerURL": "https://plot.ly"
       },
       "data": [
        {
         "hoverinfo": "text",
         "hovertext": [
          "<b>Topic 176</b><br>Words: alternative, nonetheless, rock, awesome, isnt",
          "<b>Topic 176</b><br>Words: rock, alternative, anytype, shed, goth",
          "<b>Topic 176</b><br>Words: rock, alternative, punk, vaxxer, jolly",
          "<b>Topic 176</b><br>Words: punk, rock, blink, alternative, hyperpop",
          "<b>Topic 176</b><br>Words: hyperpop, rock, punk, alternative, hyperop",
          "<b>Topic 176</b><br>Words: hyperpop, pcmusic, sophie, rock, alternative",
          "<b>Topic 176</b><br>Words: punk, rock, hyperpop, alternative, listern",
          "<b>Topic 176</b><br>Words: punk, hyperpop, rock, alternative, goth"
         ],
         "marker": {
          "color": "#E69F00"
         },
         "mode": "lines",
         "name": "176_punk_rock_hyperpop_alternative",
         "type": "scatter",
         "x": {
          "bdata": "4QfiB+MH5AflB+YH5wfoBw==",
          "dtype": "i2"
         },
         "y": {
          "bdata": "AgUGDAkEDk8=",
          "dtype": "i1"
         }
        }
       ],
       "layout": {
        "height": 400,
        "hoverlabel": {
         "bgcolor": "white",
         "font": {
          "family": "Rockwell",
          "size": 16
         }
        },
        "legend": {
         "title": {
          "text": "<b>Global Topic Representation"
         }
        },
        "template": {
         "data": {
          "bar": [
           {
            "error_x": {
             "color": "rgb(36,36,36)"
            },
            "error_y": {
             "color": "rgb(36,36,36)"
            },
            "marker": {
             "line": {
              "color": "white",
              "width": 0.5
             },
             "pattern": {
              "fillmode": "overlay",
              "size": 10,
              "solidity": 0.2
             }
            },
            "type": "bar"
           }
          ],
          "barpolar": [
           {
            "marker": {
             "line": {
              "color": "white",
              "width": 0.5
             },
             "pattern": {
              "fillmode": "overlay",
              "size": 10,
              "solidity": 0.2
             }
            },
            "type": "barpolar"
           }
          ],
          "carpet": [
           {
            "aaxis": {
             "endlinecolor": "rgb(36,36,36)",
             "gridcolor": "white",
             "linecolor": "white",
             "minorgridcolor": "white",
             "startlinecolor": "rgb(36,36,36)"
            },
            "baxis": {
             "endlinecolor": "rgb(36,36,36)",
             "gridcolor": "white",
             "linecolor": "white",
             "minorgridcolor": "white",
             "startlinecolor": "rgb(36,36,36)"
            },
            "type": "carpet"
           }
          ],
          "choropleth": [
           {
            "colorbar": {
             "outlinewidth": 1,
             "tickcolor": "rgb(36,36,36)",
             "ticks": "outside"
            },
            "type": "choropleth"
           }
          ],
          "contour": [
           {
            "colorbar": {
             "outlinewidth": 1,
             "tickcolor": "rgb(36,36,36)",
             "ticks": "outside"
            },
            "colorscale": [
             [
              0,
              "#440154"
             ],
             [
              0.1111111111111111,
              "#482878"
             ],
             [
              0.2222222222222222,
              "#3e4989"
             ],
             [
              0.3333333333333333,
              "#31688e"
             ],
             [
              0.4444444444444444,
              "#26828e"
             ],
             [
              0.5555555555555556,
              "#1f9e89"
             ],
             [
              0.6666666666666666,
              "#35b779"
             ],
             [
              0.7777777777777778,
              "#6ece58"
             ],
             [
              0.8888888888888888,
              "#b5de2b"
             ],
             [
              1,
              "#fde725"
             ]
            ],
            "type": "contour"
           }
          ],
          "contourcarpet": [
           {
            "colorbar": {
             "outlinewidth": 1,
             "tickcolor": "rgb(36,36,36)",
             "ticks": "outside"
            },
            "type": "contourcarpet"
           }
          ],
          "heatmap": [
           {
            "colorbar": {
             "outlinewidth": 1,
             "tickcolor": "rgb(36,36,36)",
             "ticks": "outside"
            },
            "colorscale": [
             [
              0,
              "#440154"
             ],
             [
              0.1111111111111111,
              "#482878"
             ],
             [
              0.2222222222222222,
              "#3e4989"
             ],
             [
              0.3333333333333333,
              "#31688e"
             ],
             [
              0.4444444444444444,
              "#26828e"
             ],
             [
              0.5555555555555556,
              "#1f9e89"
             ],
             [
              0.6666666666666666,
              "#35b779"
             ],
             [
              0.7777777777777778,
              "#6ece58"
             ],
             [
              0.8888888888888888,
              "#b5de2b"
             ],
             [
              1,
              "#fde725"
             ]
            ],
            "type": "heatmap"
           }
          ],
          "histogram": [
           {
            "marker": {
             "line": {
              "color": "white",
              "width": 0.6
             }
            },
            "type": "histogram"
           }
          ],
          "histogram2d": [
           {
            "colorbar": {
             "outlinewidth": 1,
             "tickcolor": "rgb(36,36,36)",
             "ticks": "outside"
            },
            "colorscale": [
             [
              0,
              "#440154"
             ],
             [
              0.1111111111111111,
              "#482878"
             ],
             [
              0.2222222222222222,
              "#3e4989"
             ],
             [
              0.3333333333333333,
              "#31688e"
             ],
             [
              0.4444444444444444,
              "#26828e"
             ],
             [
              0.5555555555555556,
              "#1f9e89"
             ],
             [
              0.6666666666666666,
              "#35b779"
             ],
             [
              0.7777777777777778,
              "#6ece58"
             ],
             [
              0.8888888888888888,
              "#b5de2b"
             ],
             [
              1,
              "#fde725"
             ]
            ],
            "type": "histogram2d"
           }
          ],
          "histogram2dcontour": [
           {
            "colorbar": {
             "outlinewidth": 1,
             "tickcolor": "rgb(36,36,36)",
             "ticks": "outside"
            },
            "colorscale": [
             [
              0,
              "#440154"
             ],
             [
              0.1111111111111111,
              "#482878"
             ],
             [
              0.2222222222222222,
              "#3e4989"
             ],
             [
              0.3333333333333333,
              "#31688e"
             ],
             [
              0.4444444444444444,
              "#26828e"
             ],
             [
              0.5555555555555556,
              "#1f9e89"
             ],
             [
              0.6666666666666666,
              "#35b779"
             ],
             [
              0.7777777777777778,
              "#6ece58"
             ],
             [
              0.8888888888888888,
              "#b5de2b"
             ],
             [
              1,
              "#fde725"
             ]
            ],
            "type": "histogram2dcontour"
           }
          ],
          "mesh3d": [
           {
            "colorbar": {
             "outlinewidth": 1,
             "tickcolor": "rgb(36,36,36)",
             "ticks": "outside"
            },
            "type": "mesh3d"
           }
          ],
          "parcoords": [
           {
            "line": {
             "colorbar": {
              "outlinewidth": 1,
              "tickcolor": "rgb(36,36,36)",
              "ticks": "outside"
             }
            },
            "type": "parcoords"
           }
          ],
          "pie": [
           {
            "automargin": true,
            "type": "pie"
           }
          ],
          "scatter": [
           {
            "fillpattern": {
             "fillmode": "overlay",
             "size": 10,
             "solidity": 0.2
            },
            "type": "scatter"
           }
          ],
          "scatter3d": [
           {
            "line": {
             "colorbar": {
              "outlinewidth": 1,
              "tickcolor": "rgb(36,36,36)",
              "ticks": "outside"
             }
            },
            "marker": {
             "colorbar": {
              "outlinewidth": 1,
              "tickcolor": "rgb(36,36,36)",
              "ticks": "outside"
             }
            },
            "type": "scatter3d"
           }
          ],
          "scattercarpet": [
           {
            "marker": {
             "colorbar": {
              "outlinewidth": 1,
              "tickcolor": "rgb(36,36,36)",
              "ticks": "outside"
             }
            },
            "type": "scattercarpet"
           }
          ],
          "scattergeo": [
           {
            "marker": {
             "colorbar": {
              "outlinewidth": 1,
              "tickcolor": "rgb(36,36,36)",
              "ticks": "outside"
             }
            },
            "type": "scattergeo"
           }
          ],
          "scattergl": [
           {
            "marker": {
             "colorbar": {
              "outlinewidth": 1,
              "tickcolor": "rgb(36,36,36)",
              "ticks": "outside"
             }
            },
            "type": "scattergl"
           }
          ],
          "scattermap": [
           {
            "marker": {
             "colorbar": {
              "outlinewidth": 1,
              "tickcolor": "rgb(36,36,36)",
              "ticks": "outside"
             }
            },
            "type": "scattermap"
           }
          ],
          "scattermapbox": [
           {
            "marker": {
             "colorbar": {
              "outlinewidth": 1,
              "tickcolor": "rgb(36,36,36)",
              "ticks": "outside"
             }
            },
            "type": "scattermapbox"
           }
          ],
          "scatterpolar": [
           {
            "marker": {
             "colorbar": {
              "outlinewidth": 1,
              "tickcolor": "rgb(36,36,36)",
              "ticks": "outside"
             }
            },
            "type": "scatterpolar"
           }
          ],
          "scatterpolargl": [
           {
            "marker": {
             "colorbar": {
              "outlinewidth": 1,
              "tickcolor": "rgb(36,36,36)",
              "ticks": "outside"
             }
            },
            "type": "scatterpolargl"
           }
          ],
          "scatterternary": [
           {
            "marker": {
             "colorbar": {
              "outlinewidth": 1,
              "tickcolor": "rgb(36,36,36)",
              "ticks": "outside"
             }
            },
            "type": "scatterternary"
           }
          ],
          "surface": [
           {
            "colorbar": {
             "outlinewidth": 1,
             "tickcolor": "rgb(36,36,36)",
             "ticks": "outside"
            },
            "colorscale": [
             [
              0,
              "#440154"
             ],
             [
              0.1111111111111111,
              "#482878"
             ],
             [
              0.2222222222222222,
              "#3e4989"
             ],
             [
              0.3333333333333333,
              "#31688e"
             ],
             [
              0.4444444444444444,
              "#26828e"
             ],
             [
              0.5555555555555556,
              "#1f9e89"
             ],
             [
              0.6666666666666666,
              "#35b779"
             ],
             [
              0.7777777777777778,
              "#6ece58"
             ],
             [
              0.8888888888888888,
              "#b5de2b"
             ],
             [
              1,
              "#fde725"
             ]
            ],
            "type": "surface"
           }
          ],
          "table": [
           {
            "cells": {
             "fill": {
              "color": "rgb(237,237,237)"
             },
             "line": {
              "color": "white"
             }
            },
            "header": {
             "fill": {
              "color": "rgb(217,217,217)"
             },
             "line": {
              "color": "white"
             }
            },
            "type": "table"
           }
          ]
         },
         "layout": {
          "annotationdefaults": {
           "arrowhead": 0,
           "arrowwidth": 1
          },
          "autotypenumbers": "strict",
          "coloraxis": {
           "colorbar": {
            "outlinewidth": 1,
            "tickcolor": "rgb(36,36,36)",
            "ticks": "outside"
           }
          },
          "colorscale": {
           "diverging": [
            [
             0,
             "rgb(103,0,31)"
            ],
            [
             0.1,
             "rgb(178,24,43)"
            ],
            [
             0.2,
             "rgb(214,96,77)"
            ],
            [
             0.3,
             "rgb(244,165,130)"
            ],
            [
             0.4,
             "rgb(253,219,199)"
            ],
            [
             0.5,
             "rgb(247,247,247)"
            ],
            [
             0.6,
             "rgb(209,229,240)"
            ],
            [
             0.7,
             "rgb(146,197,222)"
            ],
            [
             0.8,
             "rgb(67,147,195)"
            ],
            [
             0.9,
             "rgb(33,102,172)"
            ],
            [
             1,
             "rgb(5,48,97)"
            ]
           ],
           "sequential": [
            [
             0,
             "#440154"
            ],
            [
             0.1111111111111111,
             "#482878"
            ],
            [
             0.2222222222222222,
             "#3e4989"
            ],
            [
             0.3333333333333333,
             "#31688e"
            ],
            [
             0.4444444444444444,
             "#26828e"
            ],
            [
             0.5555555555555556,
             "#1f9e89"
            ],
            [
             0.6666666666666666,
             "#35b779"
            ],
            [
             0.7777777777777778,
             "#6ece58"
            ],
            [
             0.8888888888888888,
             "#b5de2b"
            ],
            [
             1,
             "#fde725"
            ]
           ],
           "sequentialminus": [
            [
             0,
             "#440154"
            ],
            [
             0.1111111111111111,
             "#482878"
            ],
            [
             0.2222222222222222,
             "#3e4989"
            ],
            [
             0.3333333333333333,
             "#31688e"
            ],
            [
             0.4444444444444444,
             "#26828e"
            ],
            [
             0.5555555555555556,
             "#1f9e89"
            ],
            [
             0.6666666666666666,
             "#35b779"
            ],
            [
             0.7777777777777778,
             "#6ece58"
            ],
            [
             0.8888888888888888,
             "#b5de2b"
            ],
            [
             1,
             "#fde725"
            ]
           ]
          },
          "colorway": [
           "#1F77B4",
           "#FF7F0E",
           "#2CA02C",
           "#D62728",
           "#9467BD",
           "#8C564B",
           "#E377C2",
           "#7F7F7F",
           "#BCBD22",
           "#17BECF"
          ],
          "font": {
           "color": "rgb(36,36,36)"
          },
          "geo": {
           "bgcolor": "white",
           "lakecolor": "white",
           "landcolor": "white",
           "showlakes": true,
           "showland": true,
           "subunitcolor": "white"
          },
          "hoverlabel": {
           "align": "left"
          },
          "hovermode": "closest",
          "mapbox": {
           "style": "light"
          },
          "paper_bgcolor": "white",
          "plot_bgcolor": "white",
          "polar": {
           "angularaxis": {
            "gridcolor": "rgb(232,232,232)",
            "linecolor": "rgb(36,36,36)",
            "showgrid": false,
            "showline": true,
            "ticks": "outside"
           },
           "bgcolor": "white",
           "radialaxis": {
            "gridcolor": "rgb(232,232,232)",
            "linecolor": "rgb(36,36,36)",
            "showgrid": false,
            "showline": true,
            "ticks": "outside"
           }
          },
          "scene": {
           "xaxis": {
            "backgroundcolor": "white",
            "gridcolor": "rgb(232,232,232)",
            "gridwidth": 2,
            "linecolor": "rgb(36,36,36)",
            "showbackground": true,
            "showgrid": false,
            "showline": true,
            "ticks": "outside",
            "zeroline": false,
            "zerolinecolor": "rgb(36,36,36)"
           },
           "yaxis": {
            "backgroundcolor": "white",
            "gridcolor": "rgb(232,232,232)",
            "gridwidth": 2,
            "linecolor": "rgb(36,36,36)",
            "showbackground": true,
            "showgrid": false,
            "showline": true,
            "ticks": "outside",
            "zeroline": false,
            "zerolinecolor": "rgb(36,36,36)"
           },
           "zaxis": {
            "backgroundcolor": "white",
            "gridcolor": "rgb(232,232,232)",
            "gridwidth": 2,
            "linecolor": "rgb(36,36,36)",
            "showbackground": true,
            "showgrid": false,
            "showline": true,
            "ticks": "outside",
            "zeroline": false,
            "zerolinecolor": "rgb(36,36,36)"
           }
          },
          "shapedefaults": {
           "fillcolor": "black",
           "line": {
            "width": 0
           },
           "opacity": 0.3
          },
          "ternary": {
           "aaxis": {
            "gridcolor": "rgb(232,232,232)",
            "linecolor": "rgb(36,36,36)",
            "showgrid": false,
            "showline": true,
            "ticks": "outside"
           },
           "baxis": {
            "gridcolor": "rgb(232,232,232)",
            "linecolor": "rgb(36,36,36)",
            "showgrid": false,
            "showline": true,
            "ticks": "outside"
           },
           "bgcolor": "white",
           "caxis": {
            "gridcolor": "rgb(232,232,232)",
            "linecolor": "rgb(36,36,36)",
            "showgrid": false,
            "showline": true,
            "ticks": "outside"
           }
          },
          "title": {
           "x": 0.05
          },
          "xaxis": {
           "automargin": true,
           "gridcolor": "rgb(232,232,232)",
           "linecolor": "rgb(36,36,36)",
           "showgrid": false,
           "showline": true,
           "ticks": "outside",
           "title": {
            "standoff": 15
           },
           "zeroline": false,
           "zerolinecolor": "rgb(36,36,36)"
          },
          "yaxis": {
           "automargin": true,
           "gridcolor": "rgb(232,232,232)",
           "linecolor": "rgb(36,36,36)",
           "showgrid": false,
           "showline": true,
           "ticks": "outside",
           "title": {
            "standoff": 15
           },
           "zeroline": false,
           "zerolinecolor": "rgb(36,36,36)"
          }
         }
        },
        "title": {
         "font": {
          "color": "Black",
          "size": 22
         },
         "text": "Top r/Soundcloud Topics Over Time",
         "x": 0.4,
         "xanchor": "center",
         "y": 0.95,
         "yanchor": "top"
        },
        "width": 800,
        "xaxis": {
         "showgrid": true
        },
        "yaxis": {
         "showgrid": true,
         "title": {
          "text": "Frequency"
         }
        }
       }
      }
     },
     "metadata": {},
     "output_type": "display_data"
    }
   ],
   "source": [
    "topic_model.visualize_topics_over_time(topics_over_time, topics=[176], title=\"Top r/Soundcloud Topics Over Time\", width=800, height=400)\n"
   ]
  }
 ],
 "metadata": {
  "kernelspec": {
   "display_name": "Python 3",
   "language": "python",
   "name": "python3"
  },
  "language_info": {
   "codemirror_mode": {
    "name": "ipython",
    "version": 3
   },
   "file_extension": ".py",
   "mimetype": "text/x-python",
   "name": "python",
   "nbconvert_exporter": "python",
   "pygments_lexer": "ipython3",
   "version": "3.11.1"
  }
 },
 "nbformat": 4,
 "nbformat_minor": 2
}
